{
 "cells": [
  {
   "cell_type": "markdown",
   "id": "77c31c0d-3a18-44eb-bdf9-0a049495aa87",
   "metadata": {},
   "source": [
    "# Neural Collabrative Filtering"
   ]
  },
  {
   "cell_type": "markdown",
   "id": "17be3cde-d4b9-476f-88a6-38dc94ec034e",
   "metadata": {},
   "source": [
    "### Pre-requisites"
   ]
  },
  {
   "cell_type": "code",
   "execution_count": 1,
   "id": "8647084d-0133-491a-be60-d92f965f266a",
   "metadata": {},
   "outputs": [],
   "source": [
    "import warnings\n",
    "warnings.filterwarnings(action='ignore')"
   ]
  },
  {
   "cell_type": "markdown",
   "id": "04cc884a-d3c2-4bbe-a1cc-2fb0932fae91",
   "metadata": {},
   "source": [
    "### Import necessary libraries"
   ]
  },
  {
   "cell_type": "code",
   "execution_count": 2,
   "id": "4b8bd873-93cf-4df8-99e8-9af2a773e752",
   "metadata": {},
   "outputs": [],
   "source": [
    "import numpy as np\n",
    "import matplotlib.pyplot as plt\n",
    "import seaborn as sns\n",
    "import torch\n",
    "import torch.nn as nn\n",
    "import torch.optim as optim\n",
    "from torch.utils.data import Dataset, DataLoader\n",
    "import pandas as pd\n",
    "from sklearn.model_selection import train_test_split\n",
    "from sklearn.preprocessing import LabelEncoder\n",
    "from sklearn.metrics import mean_squared_error, mean_absolute_error\n",
    "import pickle\n",
    "from sklearn.feature_extraction.text import TfidfVectorizer\n",
    "from sklearn.metrics.pairwise import cosine_similarity"
   ]
  },
  {
   "cell_type": "markdown",
   "id": "efefaced-bcdf-4542-944a-9928df4ea96b",
   "metadata": {},
   "source": [
    "### Load the data"
   ]
  },
  {
   "cell_type": "code",
   "execution_count": 3,
   "id": "625512a0-95e6-40e8-a27f-44afbdda4c34",
   "metadata": {},
   "outputs": [
    {
     "data": {
      "text/html": [
       "<div>\n",
       "<style scoped>\n",
       "    .dataframe tbody tr th:only-of-type {\n",
       "        vertical-align: middle;\n",
       "    }\n",
       "\n",
       "    .dataframe tbody tr th {\n",
       "        vertical-align: top;\n",
       "    }\n",
       "\n",
       "    .dataframe thead th {\n",
       "        text-align: right;\n",
       "    }\n",
       "</style>\n",
       "<table border=\"1\" class=\"dataframe\">\n",
       "  <thead>\n",
       "    <tr style=\"text-align: right;\">\n",
       "      <th></th>\n",
       "      <th>user_id</th>\n",
       "      <th>movie_id</th>\n",
       "      <th>rating</th>\n",
       "      <th>timestamp</th>\n",
       "      <th>title</th>\n",
       "      <th>release_date</th>\n",
       "      <th>genre_names</th>\n",
       "      <th>original_language_full</th>\n",
       "    </tr>\n",
       "  </thead>\n",
       "  <tbody>\n",
       "    <tr>\n",
       "      <th>7375527</th>\n",
       "      <td>143616</td>\n",
       "      <td>2069</td>\n",
       "      <td>4.0</td>\n",
       "      <td>940809490</td>\n",
       "      <td>The Whole Nine Yards</td>\n",
       "      <td>2000-02-18</td>\n",
       "      <td>['Comedy', 'Crime']</td>\n",
       "      <td>English</td>\n",
       "    </tr>\n",
       "    <tr>\n",
       "      <th>6328505</th>\n",
       "      <td>123454</td>\n",
       "      <td>1391</td>\n",
       "      <td>2.5</td>\n",
       "      <td>1085225788</td>\n",
       "      <td>Y Tu Mamá También</td>\n",
       "      <td>2001-06-08</td>\n",
       "      <td>['Drama', 'Romance']</td>\n",
       "      <td>Spanish</td>\n",
       "    </tr>\n",
       "    <tr>\n",
       "      <th>8148826</th>\n",
       "      <td>159171</td>\n",
       "      <td>1407</td>\n",
       "      <td>5.0</td>\n",
       "      <td>1030896010</td>\n",
       "      <td>La Vie en Rose</td>\n",
       "      <td>2007-02-14</td>\n",
       "      <td>['Music', 'Drama']</td>\n",
       "      <td>French</td>\n",
       "    </tr>\n",
       "    <tr>\n",
       "      <th>4119510</th>\n",
       "      <td>80196</td>\n",
       "      <td>55280</td>\n",
       "      <td>5.0</td>\n",
       "      <td>1259012456</td>\n",
       "      <td>Packin' It In</td>\n",
       "      <td>1983-02-07</td>\n",
       "      <td>['Comedy', 'Drama', 'TV Movie']</td>\n",
       "      <td>English</td>\n",
       "    </tr>\n",
       "    <tr>\n",
       "      <th>4438184</th>\n",
       "      <td>86279</td>\n",
       "      <td>1248</td>\n",
       "      <td>4.0</td>\n",
       "      <td>955188974</td>\n",
       "      <td>Hannibal Rising</td>\n",
       "      <td>2007-02-06</td>\n",
       "      <td>['Crime', 'Thriller', 'Horror']</td>\n",
       "      <td>English</td>\n",
       "    </tr>\n",
       "  </tbody>\n",
       "</table>\n",
       "</div>"
      ],
      "text/plain": [
       "         user_id  movie_id  rating   timestamp                 title  \\\n",
       "7375527   143616      2069     4.0   940809490  The Whole Nine Yards   \n",
       "6328505   123454      1391     2.5  1085225788     Y Tu Mamá También   \n",
       "8148826   159171      1407     5.0  1030896010        La Vie en Rose   \n",
       "4119510    80196     55280     5.0  1259012456         Packin' It In   \n",
       "4438184    86279      1248     4.0   955188974       Hannibal Rising   \n",
       "\n",
       "        release_date                      genre_names original_language_full  \n",
       "7375527   2000-02-18              ['Comedy', 'Crime']                English  \n",
       "6328505   2001-06-08             ['Drama', 'Romance']                Spanish  \n",
       "8148826   2007-02-14               ['Music', 'Drama']                 French  \n",
       "4119510   1983-02-07  ['Comedy', 'Drama', 'TV Movie']                English  \n",
       "4438184   2007-02-06  ['Crime', 'Thriller', 'Horror']                English  "
      ]
     },
     "execution_count": 3,
     "metadata": {},
     "output_type": "execute_result"
    }
   ],
   "source": [
    "df = pd.read_csv('../Datasets/merged_moviecine_tmdb.csv')\n",
    "df.sample(5)"
   ]
  },
  {
   "cell_type": "code",
   "execution_count": 4,
   "id": "c7339428-2e31-49ca-ab2a-84f043a23f99",
   "metadata": {},
   "outputs": [
    {
     "data": {
      "text/plain": [
       "user_id                   0\n",
       "movie_id                  0\n",
       "rating                    0\n",
       "timestamp                 0\n",
       "title                     0\n",
       "release_date              0\n",
       "genre_names               0\n",
       "original_language_full    0\n",
       "dtype: int64"
      ]
     },
     "execution_count": 4,
     "metadata": {},
     "output_type": "execute_result"
    }
   ],
   "source": [
    "df.isna().sum()"
   ]
  },
  {
   "cell_type": "code",
   "execution_count": 5,
   "id": "be711f30-ff0d-46d4-ab29-4e78eada044c",
   "metadata": {},
   "outputs": [
    {
     "data": {
      "text/plain": [
       "0"
      ]
     },
     "execution_count": 5,
     "metadata": {},
     "output_type": "execute_result"
    }
   ],
   "source": [
    "df.duplicated().sum()"
   ]
  },
  {
   "cell_type": "markdown",
   "id": "f365b60e-dd87-4589-816a-adce01fa3a2f",
   "metadata": {},
   "source": [
    "### Encoding the data"
   ]
  },
  {
   "cell_type": "code",
   "execution_count": 6,
   "id": "fd5e0241-0119-44ea-a900-54c47a02e4d6",
   "metadata": {},
   "outputs": [],
   "source": [
    "user_enc = LabelEncoder()\n",
    "movie_enc = LabelEncoder()\n",
    "\n",
    "df['user'] = user_enc.fit_transform(df['user_id'])\n",
    "df['movie'] = movie_enc.fit_transform(df['movie_id'])"
   ]
  },
  {
   "cell_type": "code",
   "execution_count": 7,
   "id": "f712f462-753c-42c4-b0e2-46771eccd119",
   "metadata": {},
   "outputs": [],
   "source": [
    "user_counts = df['user'].value_counts()\n",
    "movie_counts = df['movie'].value_counts()\n",
    "num_users = df['user'].nunique()\n",
    "num_movies = df['movie'].nunique()"
   ]
  },
  {
   "cell_type": "code",
   "execution_count": 8,
   "id": "a233df10-1b06-47b2-a4eb-4b6dc62c0adc",
   "metadata": {},
   "outputs": [
    {
     "data": {
      "text/plain": [
       "user\n",
       "175304    5454\n",
       "55642     2639\n",
       "49295     2202\n",
       "17030     2069\n",
       "123448    2037\n",
       "          ... \n",
       "96579        1\n",
       "184555       1\n",
       "121236       1\n",
       "166737       1\n",
       "120802       1\n",
       "Name: count, Length: 200924, dtype: int64"
      ]
     },
     "execution_count": 8,
     "metadata": {},
     "output_type": "execute_result"
    }
   ],
   "source": [
    "user_counts"
   ]
  },
  {
   "cell_type": "code",
   "execution_count": 9,
   "id": "4c5d27a9-e122-471f-893e-5b678aeaa7ac",
   "metadata": {},
   "outputs": [
    {
     "data": {
      "text/plain": [
       "movie\n",
       "197      102929\n",
       "182       98409\n",
       "1266      77332\n",
       "281       75233\n",
       "303       73849\n",
       "          ...  \n",
       "9863          1\n",
       "10762         1\n",
       "9667          1\n",
       "11066         1\n",
       "6897          1\n",
       "Name: count, Length: 11438, dtype: int64"
      ]
     },
     "execution_count": 9,
     "metadata": {},
     "output_type": "execute_result"
    }
   ],
   "source": [
    "movie_counts"
   ]
  },
  {
   "cell_type": "markdown",
   "id": "99daf57e-e5b1-4eb5-8486-639f9ac4d0ca",
   "metadata": {},
   "source": [
    "### Holdout"
   ]
  },
  {
   "cell_type": "code",
   "execution_count": 10,
   "id": "dffbd53d-6308-4134-ac2f-4f8791551c4f",
   "metadata": {},
   "outputs": [],
   "source": [
    "train_df, test_df = train_test_split(df[['user', 'movie', 'rating']], test_size=0.2, random_state=42)"
   ]
  },
  {
   "cell_type": "markdown",
   "id": "d8298152-84df-474c-ba69-e9fb761acb70",
   "metadata": {},
   "source": [
    "### Pytorch Dataset"
   ]
  },
  {
   "cell_type": "code",
   "execution_count": 11,
   "id": "cb67b515-cfea-4c9b-a216-8570382739dc",
   "metadata": {},
   "outputs": [],
   "source": [
    "class BPRDataset(Dataset):\n",
    "    def __init__(self, df, num_items):\n",
    "        self.user_item_dict = df.groupby('user')['movie'].apply(set).to_dict()\n",
    "        self.users = df['user'].values\n",
    "        self.items = df['movie'].values\n",
    "        self.num_items = num_items\n",
    "\n",
    "    def __len__(self):\n",
    "        return len(self.users)\n",
    "\n",
    "    def __getitem__(self, idx):\n",
    "        user = self.users[idx]\n",
    "        pos_item = self.items[idx]\n",
    "        while True:\n",
    "            neg_item = np.random.randint(0, self.num_items)\n",
    "            if neg_item not in self.user_item_dict.get(user, set()):\n",
    "                break\n",
    "        return torch.tensor(user), torch.tensor(pos_item), torch.tensor(neg_item)\n",
    "\n",
    "train_loader = DataLoader(BPRDataset(train_df, num_movies), batch_size=1024, shuffle=True)"
   ]
  },
  {
   "cell_type": "markdown",
   "id": "23784db7-c936-42d1-b290-eaafba01978b",
   "metadata": {},
   "source": [
    "### Model Building"
   ]
  },
  {
   "cell_type": "code",
   "execution_count": 12,
   "id": "63525eff-a75d-454d-b9ab-25a14128bb48",
   "metadata": {},
   "outputs": [],
   "source": [
    "class NCF(nn.Module):\n",
    "    def __init__(self, num_users, num_items, embedding_dim=32):\n",
    "        super(NCF, self).__init__()\n",
    "        self.user_embed_gmf = nn.Embedding(num_users, embedding_dim)\n",
    "        self.item_embed_gmf = nn.Embedding(num_items, embedding_dim)\n",
    "        self.user_embed_mlp = nn.Embedding(num_users, embedding_dim)\n",
    "        self.item_embed_mlp = nn.Embedding(num_items, embedding_dim)\n",
    "\n",
    "        self.mlp = nn.Sequential(\n",
    "            nn.Linear(embedding_dim * 2, 128), nn.ReLU(), nn.Dropout(0.3),\n",
    "            nn.Linear(128, 64), nn.ReLU(), nn.Dropout(0.3),\n",
    "            nn.Linear(64, 32), nn.ReLU(), nn.Linear(32, 1)\n",
    "        )\n",
    "\n",
    "        self.output_layer = nn.Linear(embedding_dim + 1, 1)\n",
    "\n",
    "    def forward(self, user, item):\n",
    "        gmf_out = self.user_embed_gmf(user) * self.item_embed_gmf(item)\n",
    "        mlp_out = self.mlp(torch.cat([self.user_embed_mlp(user), self.item_embed_mlp(item)], dim=-1))\n",
    "        prediction = self.output_layer(torch.cat([gmf_out, mlp_out], dim=-1))\n",
    "        return prediction.squeeze()\n",
    "\n",
    "def bpr_loss(pos_scores, neg_scores):\n",
    "    return -torch.mean(torch.log(torch.sigmoid(pos_scores - neg_scores) + 1e-8))\n"
   ]
  },
  {
   "cell_type": "markdown",
   "id": "5d7ad785-c67e-4555-b01f-25feb485db17",
   "metadata": {},
   "source": [
    "### Model Training"
   ]
  },
  {
   "cell_type": "code",
   "execution_count": 13,
   "id": "c67539d3-cec8-4699-9da8-15118476aa38",
   "metadata": {},
   "outputs": [
    {
     "name": "stdout",
     "output_type": "stream",
     "text": [
      "Epoch 1, BPR Loss: 0.1157\n",
      "Epoch 2, BPR Loss: 0.0842\n",
      "Epoch 3, BPR Loss: 0.0825\n",
      "Epoch 4, BPR Loss: 0.0811\n",
      "Epoch 5, BPR Loss: 0.0801\n"
     ]
    }
   ],
   "source": [
    "device = torch.device(\"cuda\" if torch.cuda.is_available() else \"cpu\")\n",
    "model = NCF(num_users, num_movies).to(device)\n",
    "optimizer = optim.Adam(model.parameters(), lr=0.001)\n",
    "epochs = 5\n",
    "train_losses = []\n",
    "\n",
    "for epoch in range(epochs):\n",
    "    model.train()\n",
    "    total_loss = 0\n",
    "    for user, pos_item, neg_item in train_loader:\n",
    "        user, pos_item, neg_item = user.to(device), pos_item.to(device), neg_item.to(device)\n",
    "        loss = bpr_loss(model(user, pos_item), model(user, neg_item))\n",
    "        optimizer.zero_grad(); loss.backward(); optimizer.step()\n",
    "        total_loss += loss.item()\n",
    "    train_losses.append(total_loss / len(train_loader))\n",
    "    print(f\"Epoch {epoch+1}, BPR Loss: {train_losses[-1]:.4f}\")\n"
   ]
  },
  {
   "cell_type": "markdown",
   "id": "0f63d54d-4340-4031-8c2a-b797776bfe02",
   "metadata": {},
   "source": [
    "### Model Evaluation"
   ]
  },
  {
   "cell_type": "code",
   "execution_count": 14,
   "id": "86416dac-ed84-444c-830b-2bafa74ba464",
   "metadata": {},
   "outputs": [
    {
     "name": "stdout",
     "output_type": "stream",
     "text": [
      "\n",
      "Validation Loss: 5.2016, RMSE: 2.2807, MAE: 1.8303\n"
     ]
    }
   ],
   "source": [
    "class RatingDataset(Dataset):\n",
    "    def __init__(self, df):\n",
    "        self.users = torch.tensor(df['user'].values, dtype=torch.long)\n",
    "        self.items = torch.tensor(df['movie'].values, dtype=torch.long)\n",
    "        self.ratings = torch.tensor(df['rating'].values, dtype=torch.float)\n",
    "\n",
    "    def __len__(self): return len(self.ratings)\n",
    "    def __getitem__(self, idx): return self.users[idx], self.items[idx], self.ratings[idx]\n",
    "\n",
    "test_loader = DataLoader(RatingDataset(test_df), batch_size=1024, shuffle=False)\n",
    "model.eval()\n",
    "all_preds, all_targets, val_loss = [], [], 0\n",
    "\n",
    "with torch.no_grad():\n",
    "    for users, items, ratings in test_loader:\n",
    "        users, items, ratings = users.to(device), items.to(device), ratings.to(device)\n",
    "        preds = model(users, items)\n",
    "        loss = nn.MSELoss()(preds, ratings)\n",
    "        val_loss += loss.item()\n",
    "        all_preds.extend(preds.cpu().numpy())\n",
    "        all_targets.extend(ratings.cpu().numpy())\n",
    "\n",
    "val_loss /= len(test_loader)\n",
    "rmse = np.sqrt(mean_squared_error(all_targets, all_preds))\n",
    "mae = mean_absolute_error(all_targets, all_preds)\n",
    "print(f\"\\nValidation Loss: {val_loss:.4f}, RMSE: {rmse:.4f}, MAE: {mae:.4f}\")"
   ]
  },
  {
   "cell_type": "markdown",
   "id": "80bd0ba6-4f3a-481e-8b84-5feec5b420cc",
   "metadata": {},
   "source": [
    "### Content-based cold start fallback"
   ]
  },
  {
   "cell_type": "code",
   "execution_count": 20,
   "id": "04008a33-ec38-4173-81cd-531e7a5a62d4",
   "metadata": {},
   "outputs": [],
   "source": [
    "df1 = pd.read_csv('../Datasets/merged_moviecine_tmdb.csv')\n",
    "content_df = df1[['movie_id', 'genre_names', 'original_language_full']].drop_duplicates()\n",
    "content_df['combined'] = content_df['genre_names'].fillna('') + ' ' + content_df['original_language_full'].fillna('')\n",
    "vectorizer = TfidfVectorizer()\n",
    "tfidf_matrix = vectorizer.fit_transform(content_df['combined'])\n",
    "sim_matrix = cosine_similarity(tfidf_matrix)\n",
    "content_sim_data = dict(zip(content_df['movie_id'], sim_matrix))"
   ]
  },
  {
   "cell_type": "markdown",
   "id": "397976c9-e373-4444-a38c-6881488ad8b3",
   "metadata": {},
   "source": [
    "### Hybrid Recommender"
   ]
  },
  {
   "cell_type": "code",
   "execution_count": 21,
   "id": "c0d4ce8e-c70a-49c3-97b3-ec01906b03c6",
   "metadata": {},
   "outputs": [],
   "source": [
    "class HybridRecommender:\n",
    "    def __init__(self, model, user_enc, movie_enc, content_sim_data, device='cpu'):\n",
    "        self.model = model\n",
    "        self.user_enc = user_enc\n",
    "        self.movie_enc = movie_enc\n",
    "        self.content_sim_data = content_sim_data\n",
    "        self.device = device\n",
    "\n",
    "    def recommend(self, user_id, movie_id=None, top_k=5):\n",
    "        try:\n",
    "            user = torch.tensor([self.user_enc.transform([user_id])[0]]).to(self.device)\n",
    "            if movie_id:\n",
    "                movie = torch.tensor([self.movie_enc.transform([movie_id])[0]]).to(self.device)\n",
    "                self.model.eval()\n",
    "                with torch.no_grad():\n",
    "                    score = self.model(user, movie).item()\n",
    "                return {'prediction': score}\n",
    "            else:\n",
    "                # Recommend top_k for user\n",
    "                movies = torch.arange(num_movies).to(self.device)\n",
    "                users = user.repeat(num_movies)\n",
    "                self.model.eval()\n",
    "                with torch.no_grad():\n",
    "                    scores = self.model(users, movies).cpu().numpy()\n",
    "                top_items = scores.argsort()[-top_k:][::-1]\n",
    "                return {'recommendations': movie_enc.inverse_transform(top_items)}\n",
    "        except:\n",
    "            if movie_id and movie_id in content_sim_data:\n",
    "                idx = content_df[content_df['movie_id'] == movie_id].index[0]\n",
    "                sim_scores = list(enumerate(content_sim_data[movie_id]))\n",
    "                sim_scores = sorted(sim_scores, key=lambda x: -x[1])[1:top_k+1]\n",
    "                recs = content_df.iloc[[i[0] for i in sim_scores]]['movie_id'].tolist()\n",
    "                return {'fallback_recommendations': recs}\n",
    "            return {'error': 'Cold start user and no movie fallback'}"
   ]
  },
  {
   "cell_type": "code",
   "execution_count": 22,
   "id": "75b48f0e-8904-4d9d-a710-cd51842b0e4b",
   "metadata": {},
   "outputs": [
    {
     "name": "stdout",
     "output_type": "stream",
     "text": [
      "\n",
      "🎯 Evaluation Results:\n",
      "HitRate@10  : 0.9880\n",
      "Precision@10: 0.0988\n",
      "NDCG@10     : 0.7738\n"
     ]
    }
   ],
   "source": [
    "def evaluate_topk_metrics(model, test_df, all_items, k=10, num_users=1000, device='cpu'):\n",
    "    model.eval()\n",
    "    hits, ndcgs, precisions = [], [], []\n",
    "\n",
    "    users = test_df['user'].unique()\n",
    "    sampled_users = np.random.choice(users, min(num_users, len(users)), replace=False)\n",
    "\n",
    "    for user in sampled_users:\n",
    "        true_item = test_df[test_df['user'] == user]['movie'].values[0]\n",
    "        negatives = list(all_items - set(test_df[test_df['user'] == user]['movie']))\n",
    "        if len(negatives) < 99:\n",
    "            continue\n",
    "        sampled_negatives = np.random.choice(negatives, size=99, replace=False).tolist()\n",
    "\n",
    "        test_items = [true_item] + sampled_negatives\n",
    "        user_tensor = torch.tensor([user] * len(test_items)).to(device)\n",
    "        item_tensor = torch.tensor(test_items).to(device)\n",
    "\n",
    "        with torch.no_grad():\n",
    "            scores = model(user_tensor, item_tensor).squeeze().cpu().numpy()\n",
    "\n",
    "        ranked_items = np.array(test_items)[np.argsort(-scores)][:k]\n",
    "        hit = int(true_item in ranked_items)\n",
    "        hits.append(hit)\n",
    "        ndcgs.append(1 / np.log2(np.where(ranked_items == true_item)[0][0] + 2) if hit else 0)\n",
    "        precisions.append(hit / k)\n",
    "\n",
    "    return {\n",
    "        \"HitRate@K\": np.mean(hits),\n",
    "        \"Precision@K\": np.mean(precisions),\n",
    "        \"NDCG@K\": np.mean(ndcgs)\n",
    "    }\n",
    "\n",
    "all_items = set(df['movie'].unique())\n",
    "test_df_sample = df.groupby('user').first().reset_index()[['user', 'movie']]\n",
    "metrics = evaluate_topk_metrics(model, test_df_sample, all_items, k=10, device=device)\n",
    "print(f\"\\n🎯 Evaluation Results:\")\n",
    "print(f\"HitRate@10  : {metrics['HitRate@K']:.4f}\")\n",
    "print(f\"Precision@10: {metrics['Precision@K']:.4f}\")\n",
    "print(f\"NDCG@10     : {metrics['NDCG@K']:.4f}\")"
   ]
  },
  {
   "cell_type": "markdown",
   "id": "1bb7c397-945b-4aa1-bba0-b4f0bb6ce31d",
   "metadata": {},
   "source": [
    "### Output Visualization"
   ]
  },
  {
   "cell_type": "code",
   "execution_count": 23,
   "id": "bcea1d65-7431-4485-ae02-95aa3d0eef0f",
   "metadata": {},
   "outputs": [
    {
     "data": {
      "image/png": "[encoded data removed]",
      "text/plain": [
       "<Figure size 640x480 with 1 Axes>"
      ]
     },
     "metadata": {},
     "output_type": "display_data"
    }
   ],
   "source": [
    "plt.plot(train_losses)\n",
    "plt.title(\"BPR Training Loss\")\n",
    "plt.xlabel(\"Epoch\")\n",
    "plt.ylabel(\"Loss\")\n",
    "plt.grid(True)\n",
    "plt.show()"
   ]
  },
  {
   "cell_type": "markdown",
   "id": "0ee5e9f4-76b2-4ed3-b9e6-158427988bf7",
   "metadata": {},
   "source": [
    "### Dumping the model and encoders"
   ]
  },
  {
   "cell_type": "code",
   "execution_count": null,
   "id": "3baa36fd-45d5-4e3d-a9ce-f625692a4ca3",
   "metadata": {},
   "outputs": [],
   "source": [
    "torch.save(model.state_dict(), \"ncf_model.pth\")\n",
    "with open(\"user_encoder.pkl\", \"wb\") as f: pickle.dump(user_enc, f)\n",
    "with open(\"movie_encoder.pkl\", \"wb\") as f: pickle.dump(movie_enc, f)"
   ]
  }
 ],
 "metadata": {
  "kernelspec": {
   "display_name": "Python 3 (ipykernel)",
   "language": "python",
   "name": "python3"
  },
  "language_info": {
   "codemirror_mode": {
    "name": "ipython",
    "version": 3
   },
   "file_extension": ".py",
   "mimetype": "text/x-python",
   "name": "python",
   "nbconvert_exporter": "python",
   "pygments_lexer": "ipython3",
   "version": "3.12.7"
  }
 },
 "nbformat": 4,
 "nbformat_minor": 5
}
