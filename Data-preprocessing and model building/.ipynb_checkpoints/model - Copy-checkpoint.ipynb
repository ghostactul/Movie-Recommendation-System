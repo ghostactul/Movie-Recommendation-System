{
 "cells": [
  {
   "cell_type": "markdown",
   "id": "77c31c0d-3a18-44eb-bdf9-0a049495aa87",
   "metadata": {},
   "source": [
    "# Neural Collabrative Filtering"
   ]
  },
  {
   "cell_type": "markdown",
   "id": "17be3cde-d4b9-476f-88a6-38dc94ec034e",
   "metadata": {},
   "source": [
    "### Pre-requisites"
   ]
  },
  {
   "cell_type": "code",
   "execution_count": 1,
   "id": "8647084d-0133-491a-be60-d92f965f266a",
   "metadata": {},
   "outputs": [],
   "source": [
    "import warnings\n",
    "warnings.filterwarnings(action='ignore')"
   ]
  },
  {
   "cell_type": "markdown",
   "id": "04cc884a-d3c2-4bbe-a1cc-2fb0932fae91",
   "metadata": {},
   "source": [
    "### Import necessary libraries"
   ]
  },
  {
   "cell_type": "code",
   "execution_count": 2,
   "id": "4b8bd873-93cf-4df8-99e8-9af2a773e752",
   "metadata": {},
   "outputs": [],
   "source": [
    "import numpy as np\n",
    "import matplotlib.pyplot as plt\n",
    "import seaborn as sns\n",
    "import torch\n",
    "import torch.nn as nn\n",
    "import torch.optim as optim\n",
    "from torch.utils.data import Dataset, DataLoader\n",
    "import pandas as pd\n",
    "from sklearn.model_selection import train_test_split\n",
    "from sklearn.preprocessing import LabelEncoder"
   ]
  },
  {
   "cell_type": "markdown",
   "id": "efefaced-bcdf-4542-944a-9928df4ea96b",
   "metadata": {},
   "source": [
    "### Load the data"
   ]
  },
  {
   "cell_type": "code",
   "execution_count": 3,
   "id": "625512a0-95e6-40e8-a27f-44afbdda4c34",
   "metadata": {},
   "outputs": [
    {
     "data": {
      "text/html": [
       "<div>\n",
       "<style scoped>\n",
       "    .dataframe tbody tr th:only-of-type {\n",
       "        vertical-align: middle;\n",
       "    }\n",
       "\n",
       "    .dataframe tbody tr th {\n",
       "        vertical-align: top;\n",
       "    }\n",
       "\n",
       "    .dataframe thead th {\n",
       "        text-align: right;\n",
       "    }\n",
       "</style>\n",
       "<table border=\"1\" class=\"dataframe\">\n",
       "  <thead>\n",
       "    <tr style=\"text-align: right;\">\n",
       "      <th></th>\n",
       "      <th>user_id</th>\n",
       "      <th>movie_id</th>\n",
       "      <th>rating</th>\n",
       "      <th>timestamp</th>\n",
       "      <th>title</th>\n",
       "      <th>release_date</th>\n",
       "      <th>genre_names</th>\n",
       "      <th>original_language_full</th>\n",
       "    </tr>\n",
       "  </thead>\n",
       "  <tbody>\n",
       "    <tr>\n",
       "      <th>9737263</th>\n",
       "      <td>190008</td>\n",
       "      <td>1393</td>\n",
       "      <td>5.0</td>\n",
       "      <td>974766651</td>\n",
       "      <td>The Cave of the Yellow Dog</td>\n",
       "      <td>2005-07-27</td>\n",
       "      <td>['Drama']</td>\n",
       "      <td>Mongolian</td>\n",
       "    </tr>\n",
       "    <tr>\n",
       "      <th>6985532</th>\n",
       "      <td>135984</td>\n",
       "      <td>4597</td>\n",
       "      <td>1.5</td>\n",
       "      <td>1076008764</td>\n",
       "      <td>Armored</td>\n",
       "      <td>2009-12-04</td>\n",
       "      <td>['Action', 'Crime', 'Drama', 'Thriller', 'Myst...</td>\n",
       "      <td>English</td>\n",
       "    </tr>\n",
       "    <tr>\n",
       "      <th>9321285</th>\n",
       "      <td>181852</td>\n",
       "      <td>56805</td>\n",
       "      <td>4.0</td>\n",
       "      <td>1212986364</td>\n",
       "      <td>A Little Comfort</td>\n",
       "      <td>2004-01-31</td>\n",
       "      <td>['Drama']</td>\n",
       "      <td>French</td>\n",
       "    </tr>\n",
       "    <tr>\n",
       "      <th>1883242</th>\n",
       "      <td>36608</td>\n",
       "      <td>587</td>\n",
       "      <td>3.5</td>\n",
       "      <td>1463521251</td>\n",
       "      <td>Big Fish</td>\n",
       "      <td>2003-12-25</td>\n",
       "      <td>['Adventure', 'Fantasy', 'Drama']</td>\n",
       "      <td>English</td>\n",
       "    </tr>\n",
       "    <tr>\n",
       "      <th>4305997</th>\n",
       "      <td>83730</td>\n",
       "      <td>1949</td>\n",
       "      <td>4.0</td>\n",
       "      <td>1203912457</td>\n",
       "      <td>Zodiac</td>\n",
       "      <td>2007-03-02</td>\n",
       "      <td>['Crime', 'Drama', 'Mystery', 'Thriller']</td>\n",
       "      <td>English</td>\n",
       "    </tr>\n",
       "  </tbody>\n",
       "</table>\n",
       "</div>"
      ],
      "text/plain": [
       "         user_id  movie_id  rating   timestamp                       title  \\\n",
       "9737263   190008      1393     5.0   974766651  The Cave of the Yellow Dog   \n",
       "6985532   135984      4597     1.5  1076008764                     Armored   \n",
       "9321285   181852     56805     4.0  1212986364            A Little Comfort   \n",
       "1883242    36608       587     3.5  1463521251                    Big Fish   \n",
       "4305997    83730      1949     4.0  1203912457                      Zodiac   \n",
       "\n",
       "        release_date                                        genre_names  \\\n",
       "9737263   2005-07-27                                          ['Drama']   \n",
       "6985532   2009-12-04  ['Action', 'Crime', 'Drama', 'Thriller', 'Myst...   \n",
       "9321285   2004-01-31                                          ['Drama']   \n",
       "1883242   2003-12-25                  ['Adventure', 'Fantasy', 'Drama']   \n",
       "4305997   2007-03-02          ['Crime', 'Drama', 'Mystery', 'Thriller']   \n",
       "\n",
       "        original_language_full  \n",
       "9737263              Mongolian  \n",
       "6985532                English  \n",
       "9321285                 French  \n",
       "1883242                English  \n",
       "4305997                English  "
      ]
     },
     "execution_count": 3,
     "metadata": {},
     "output_type": "execute_result"
    }
   ],
   "source": [
    "df = pd.read_csv('../Datasets/merged_moviecine_tmdb.csv')\n",
    "df.sample(5)"
   ]
  },
  {
   "cell_type": "markdown",
   "id": "f365b60e-dd87-4589-816a-adce01fa3a2f",
   "metadata": {},
   "source": [
    "### Encoding the data"
   ]
  },
  {
   "cell_type": "code",
   "execution_count": 4,
   "id": "fd5e0241-0119-44ea-a900-54c47a02e4d6",
   "metadata": {},
   "outputs": [],
   "source": [
    "user_enc = LabelEncoder()\n",
    "movie_enc = LabelEncoder()\n",
    "\n",
    "df['user'] = user_enc.fit_transform(df['user_id'])\n",
    "df['movie'] = movie_enc.fit_transform(df['movie_id'])"
   ]
  },
  {
   "cell_type": "code",
   "execution_count": 5,
   "id": "f712f462-753c-42c4-b0e2-46771eccd119",
   "metadata": {},
   "outputs": [],
   "source": [
    "num_users = df['user'].nunique()\n",
    "num_movies = df['movie'].nunique()"
   ]
  },
  {
   "cell_type": "markdown",
   "id": "99daf57e-e5b1-4eb5-8486-639f9ac4d0ca",
   "metadata": {},
   "source": [
    "### Holdout"
   ]
  },
  {
   "cell_type": "code",
   "execution_count": 6,
   "id": "dffbd53d-6308-4134-ac2f-4f8791551c4f",
   "metadata": {},
   "outputs": [],
   "source": [
    "train_df, test_df = train_test_split(df[['user', 'movie', 'rating']], test_size=0.2, random_state=42)"
   ]
  },
  {
   "cell_type": "markdown",
   "id": "d8298152-84df-474c-ba69-e9fb761acb70",
   "metadata": {},
   "source": [
    "### Pytorch Dataset"
   ]
  },
  {
   "cell_type": "code",
   "execution_count": 7,
   "id": "cb67b515-cfea-4c9b-a216-8570382739dc",
   "metadata": {},
   "outputs": [],
   "source": [
    "class RatingDataset(Dataset):\n",
    "    def __init__(self, df):\n",
    "        self.users = torch.tensor(df['user'].values, dtype=torch.long)\n",
    "        self.items = torch.tensor(df['movie'].values, dtype=torch.long)\n",
    "        self.ratings = torch.tensor(df['rating'].values, dtype=torch.float)\n",
    "\n",
    "    def __len__(self):\n",
    "        return len(self.ratings)\n",
    "\n",
    "    def __getitem__(self, idx):\n",
    "        return self.users[idx], self.items[idx], self.ratings[idx]\n",
    "\n",
    "train_dataset = RatingDataset(train_df)\n",
    "test_dataset = RatingDataset(test_df)\n",
    "\n",
    "train_loader = DataLoader(train_dataset, batch_size=1024, shuffle=True)"
   ]
  },
  {
   "cell_type": "markdown",
   "id": "23784db7-c936-42d1-b290-eaafba01978b",
   "metadata": {},
   "source": [
    "### Model Building"
   ]
  },
  {
   "cell_type": "code",
   "execution_count": 8,
   "id": "63525eff-a75d-454d-b9ab-25a14128bb48",
   "metadata": {},
   "outputs": [],
   "source": [
    "class NCF(nn.Module):\n",
    "    def __init__(self, num_users, num_items, embedding_dim=32):\n",
    "        super(NCF, self).__init__()\n",
    "        \n",
    "        # GMF part\n",
    "        self.user_embed_gmf = nn.Embedding(num_users, embedding_dim)\n",
    "        self.item_embed_gmf = nn.Embedding(num_items, embedding_dim)\n",
    "\n",
    "        # MLP part\n",
    "        self.user_embed_mlp = nn.Embedding(num_users, embedding_dim)\n",
    "        self.item_embed_mlp = nn.Embedding(num_items, embedding_dim)\n",
    "\n",
    "        self.mlp = nn.Sequential(\n",
    "            nn.Linear(embedding_dim * 2, 128),\n",
    "            nn.ReLU(),\n",
    "            nn.Dropout(0.3),\n",
    "            nn.Linear(128, 64),\n",
    "            nn.ReLU(),\n",
    "            nn.Dropout(0.3),\n",
    "            nn.Linear(64, 32),\n",
    "            nn.ReLU(),\n",
    "            nn.Linear(32, 1)\n",
    "        )\n",
    "\n",
    "        # Final layer\n",
    "        self.output_layer = nn.Linear(embedding_dim + 1, 1)  # 1 for the MLP output (single prediction)\n",
    "\n",
    "    def forward(self, user, item):\n",
    "        # GMF part\n",
    "        gmf_user = self.user_embed_gmf(user)\n",
    "        gmf_item = self.item_embed_gmf(item)\n",
    "        gmf_out = gmf_user * gmf_item  # Element-wise multiplication for GMF\n",
    "\n",
    "        # MLP part\n",
    "        mlp_user = self.user_embed_mlp(user)\n",
    "        mlp_item = self.item_embed_mlp(item)\n",
    "        mlp_input = torch.cat([mlp_user, mlp_item], dim=-1)\n",
    "        mlp_out = self.mlp(mlp_input)  # MLP outputs a single value for each user-item pair\n",
    "\n",
    "        # Concatenate GMF + MLP outputs\n",
    "        final_input = torch.cat([gmf_out, mlp_out], dim=-1)  # Concatenate the outputs\n",
    "        prediction = self.output_layer(final_input)  # Final layer to produce the predicted rating\n",
    "        return prediction.squeeze()  # Return the final prediction"
   ]
  },
  {
   "cell_type": "markdown",
   "id": "5d7ad785-c67e-4555-b01f-25feb485db17",
   "metadata": {},
   "source": [
    "### Model Training"
   ]
  },
  {
   "cell_type": "code",
   "execution_count": 9,
   "id": "c67539d3-cec8-4699-9da8-15118476aa38",
   "metadata": {},
   "outputs": [
    {
     "name": "stdout",
     "output_type": "stream",
     "text": [
      "Epoch 1/20, Loss: 1.0435\n",
      "Epoch 2/20, Loss: 0.7831\n",
      "Epoch 3/20, Loss: 0.7425\n",
      "Epoch 4/20, Loss: 0.7257\n",
      "Epoch 5/20, Loss: 0.7111\n",
      "Epoch 6/20, Loss: 0.6942\n",
      "Epoch 7/20, Loss: 0.6736\n",
      "Epoch 8/20, Loss: 0.6496\n",
      "Epoch 9/20, Loss: 0.6234\n",
      "Epoch 10/20, Loss: 0.5960\n",
      "Epoch 11/20, Loss: 0.5690\n",
      "Epoch 12/20, Loss: 0.5430\n",
      "Epoch 13/20, Loss: 0.5185\n",
      "Epoch 14/20, Loss: 0.4959\n",
      "Epoch 15/20, Loss: 0.4751\n",
      "Epoch 16/20, Loss: 0.4560\n",
      "Epoch 17/20, Loss: 0.4388\n",
      "Epoch 18/20, Loss: 0.4231\n",
      "Epoch 19/20, Loss: 0.4089\n",
      "Epoch 20/20, Loss: 0.3961\n"
     ]
    }
   ],
   "source": [
    "device = torch.device(\"cuda\" if torch.cuda.is_available() else \"cpu\")\n",
    "train_losses = []\n",
    "model = NCF(num_users, num_movies).to(device)\n",
    "optimizer = torch.optim.Adam(model.parameters(), lr=0.001)\n",
    "loss_fn = nn.MSELoss()\n",
    "epochs = 20\n",
    "for epoch in range(epochs):\n",
    "    model.train()\n",
    "    total_loss = 0\n",
    "    for users, movies, ratings in train_loader:\n",
    "        users, items, ratings = users.to(device), movies.to(device), ratings.to(device)\n",
    "        preds = model(users, movies)\n",
    "        loss = loss_fn(preds, ratings)\n",
    "        optimizer.zero_grad()\n",
    "        loss.backward()\n",
    "        optimizer.step()\n",
    "        total_loss += loss.item()\n",
    "    train_loss = total_loss / len(train_loader)\n",
    "    train_losses.append(train_loss)\n",
    "    print(f\"Epoch {epoch+1}/{epochs}, Loss: {train_loss:.4f}\")"
   ]
  },
  {
   "cell_type": "markdown",
   "id": "0f63d54d-4340-4031-8c2a-b797776bfe02",
   "metadata": {},
   "source": [
    "### Model Evaluation"
   ]
  },
  {
   "cell_type": "code",
   "execution_count": 10,
   "id": "86416dac-ed84-444c-830b-2bafa74ba464",
   "metadata": {},
   "outputs": [
    {
     "name": "stdout",
     "output_type": "stream",
     "text": [
      "\n",
      "📊 Evaluation Results:\n",
      "Validation Loss: 0.8628\n",
      "RMSE: 0.9288\n",
      "MAE : 0.7200\n"
     ]
    }
   ],
   "source": [
    "from sklearn.metrics import mean_squared_error, mean_absolute_error\n",
    "\n",
    "# Create DataLoader for testing\n",
    "test_loader = DataLoader(test_dataset, batch_size=1024, shuffle=False)\n",
    "loss_fn1 = nn.MSELoss()\n",
    "\n",
    "model.eval()\n",
    "all_preds = []\n",
    "all_targets = []\n",
    "val_losses = []\n",
    "val_loss = 0  # Initialize val_loss\n",
    "\n",
    "with torch.no_grad():\n",
    "    for users, movies, ratings in test_loader:\n",
    "        users, movies, ratings = users.to(device), movies.to(device), ratings.to(device)\n",
    "\n",
    "        preds = model(users, movies)\n",
    "        preds = preds.view(-1)\n",
    "        ratings = ratings.view(-1)\n",
    "\n",
    "        loss = loss_fn1(preds, ratings)\n",
    "        val_loss += loss.item()\n",
    "\n",
    "        all_preds.extend(preds.cpu().numpy())\n",
    "        all_targets.extend(ratings.cpu().numpy())\n",
    "\n",
    "val_loss /= len(test_loader)\n",
    "val_losses.append(val_loss)\n",
    "\n",
    "# Compute RMSE and MAE\n",
    "rmse = np.sqrt(mean_squared_error(all_targets, all_preds))\n",
    "mae = mean_absolute_error(all_targets, all_preds)\n",
    "\n",
    "print(f\"\\n📊 Evaluation Results:\")\n",
    "print(f\"Validation Loss: {val_loss:.4f}\")\n",
    "print(f\"RMSE: {rmse:.4f}\")\n",
    "print(f\"MAE : {mae:.4f}\")"
   ]
  },
  {
   "cell_type": "code",
   "execution_count": 11,
   "id": "75b48f0e-8904-4d9d-a710-cd51842b0e4b",
   "metadata": {},
   "outputs": [],
   "source": [
    "import numpy as np\n",
    "import torch\n",
    "\n",
    "def evaluate_topk_metrics(model, test_df, all_items, k=10, num_users=1000, device='cpu'):\n",
    "    \"\"\"\n",
    "    Evaluate HitRate@K, Precision@K, and NDCG@K.\n",
    "\n",
    "    model: trained PyTorch NCF model\n",
    "    test_df: DataFrame with columns ['user', 'movie']\n",
    "    all_items: set of all item IDs\n",
    "    k: top-k items to consider\n",
    "    num_users: number of users to evaluate\n",
    "    device: 'cuda' or 'cpu'\n",
    "    \"\"\"\n",
    "    model.eval()\n",
    "    hits, ndcgs, precisions = [], [], []\n",
    "\n",
    "    users = test_df['user'].unique()\n",
    "    sampled_users = np.random.choice(users, min(num_users, len(users)), replace=False)\n",
    "\n",
    "    for user in sampled_users:\n",
    "        true_item = test_df[test_df['user'] == user]['movie'].values[0]\n",
    "\n",
    "        # Sample 99 negative items\n",
    "        negatives = list(all_items - set(test_df[test_df['user'] == user]['movie']))\n",
    "        if len(negatives) < 99:\n",
    "            continue  # Skip if not enough negatives\n",
    "        sampled_negatives = np.random.choice(negatives, size=99, replace=False).tolist()\n",
    "\n",
    "        # Combine true item with negatives\n",
    "        test_items = [true_item] + sampled_negatives\n",
    "        user_tensor = torch.tensor([user] * len(test_items)).to(device)\n",
    "        item_tensor = torch.tensor(test_items).to(device)\n",
    "\n",
    "        with torch.no_grad():\n",
    "            scores = model(user_tensor, item_tensor).squeeze().cpu().numpy()\n",
    "\n",
    "        ranked_indices = np.argsort(-scores)\n",
    "        ranked_items = np.array(test_items)[ranked_indices]\n",
    "\n",
    "        top_k = ranked_items[:k]\n",
    "        hit = int(true_item in top_k)\n",
    "        hits.append(hit)\n",
    "\n",
    "        if hit:\n",
    "            rank_position = np.where(top_k == true_item)[0][0] + 1\n",
    "            ndcgs.append(1 / np.log2(rank_position + 1))\n",
    "        else:\n",
    "            ndcgs.append(0)\n",
    "\n",
    "        precisions.append(hit / k)\n",
    "\n",
    "    return {\n",
    "        \"HitRate@K\": np.mean(hits),\n",
    "        \"Precision@K\": np.mean(precisions),\n",
    "        \"NDCG@K\": np.mean(ndcgs)\n",
    "    }"
   ]
  },
  {
   "cell_type": "code",
   "execution_count": 12,
   "id": "2e494700-3dfb-4233-8ff4-417f6cdd165c",
   "metadata": {},
   "outputs": [
    {
     "name": "stdout",
     "output_type": "stream",
     "text": [
      "🎯 Evaluation Results:\n",
      "HitRate@10  : 0.2250\n",
      "Precision@10: 0.0225\n",
      "NDCG@10     : 0.1051\n"
     ]
    }
   ],
   "source": [
    "all_items = set(df['movie'].unique())\n",
    "\n",
    "# Step 2: Create a test DataFrame with user-movie pairs\n",
    "# For demo, we take one rating per user (you can improve this later)\n",
    "test_df = df.groupby('user').first().reset_index()[['user', 'movie']]\n",
    "\n",
    "metrics = evaluate_topk_metrics(model, test_df, all_items, k=10, device=device)\n",
    "print(f\"🎯 Evaluation Results:\")\n",
    "print(f\"HitRate@10  : {metrics['HitRate@K']:.4f}\")\n",
    "print(f\"Precision@10: {metrics['Precision@K']:.4f}\")\n",
    "print(f\"NDCG@10     : {metrics['NDCG@K']:.4f}\")"
   ]
  },
  {
   "cell_type": "markdown",
   "id": "1bb7c397-945b-4aa1-bba0-b4f0bb6ce31d",
   "metadata": {},
   "source": [
    "### Output Visualization"
   ]
  },
  {
   "cell_type": "code",
   "execution_count": 13,
   "id": "bcea1d65-7431-4485-ae02-95aa3d0eef0f",
   "metadata": {},
   "outputs": [
    {
     "data": {
      "image/png": "[encoded data removed]",
      "text/plain": [
       "<Figure size 1000x500 with 1 Axes>"
      ]
     },
     "metadata": {},
     "output_type": "display_data"
    }
   ],
   "source": [
    "plt.figure(figsize=(10, 5))\n",
    "plt.plot(train_losses, label='Training Loss')\n",
    "plt.plot(val_losses, label='Validation Loss')\n",
    "plt.title('Loss Curves')\n",
    "plt.xlabel('Epoch')\n",
    "plt.ylabel('Loss')\n",
    "plt.legend()\n",
    "plt.grid(True)\n",
    "plt.show()"
   ]
  },
  {
   "cell_type": "markdown",
   "id": "0ee5e9f4-76b2-4ed3-b9e6-158427988bf7",
   "metadata": {},
   "source": [
    "### Dumping the model and encoders"
   ]
  },
  {
   "cell_type": "code",
   "execution_count": 14,
   "id": "3baa36fd-45d5-4e3d-a9ce-f625692a4ca3",
   "metadata": {},
   "outputs": [],
   "source": [
    "import pickle\n",
    "torch.save(model.state_dict(), \"ncf_model.pth\")\n",
    "\n",
    "with open(\"movie_encoder.pkl\", \"wb\") as f:\n",
    "    pickle.dump(movie_enc, f)\n",
    "with open(\"user_encoder.pkl\", \"wb\") as f:\n",
    "    pickle.dump(user_enc, f)"
   ]
  },
  {
   "cell_type": "code",
   "execution_count": null,
   "id": "db5bf4f3-c8dd-4761-8b69-d55d87eea3e0",
   "metadata": {},
   "outputs": [],
   "source": []
  }
 ],
 "metadata": {
  "kernelspec": {
   "display_name": "Python 3 (ipykernel)",
   "language": "python",
   "name": "python3"
  },
  "language_info": {
   "codemirror_mode": {
    "name": "ipython",
    "version": 3
   },
   "file_extension": ".py",
   "mimetype": "text/x-python",
   "name": "python",
   "nbconvert_exporter": "python",
   "pygments_lexer": "ipython3",
   "version": "3.12.7"
  }
 },
 "nbformat": 4,
 "nbformat_minor": 5
}
